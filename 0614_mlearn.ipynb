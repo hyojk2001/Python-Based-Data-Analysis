{
  "nbformat": 4,
  "nbformat_minor": 0,
  "metadata": {
    "colab": {
      "name": "0614_mlearn.ipynb",
      "provenance": [],
      "collapsed_sections": [],
      "authorship_tag": "ABX9TyPlSynhcsL6zipNyZVuOmVz",
      "include_colab_link": true
    },
    "kernelspec": {
      "name": "python3",
      "display_name": "Python 3"
    },
    "language_info": {
      "name": "python"
    },
    "widgets": {
      "application/vnd.jupyter.widget-state+json": {
        "97cd8d7c0ae84b2ca587d62ac51f0963": {
          "model_module": "@jupyter-widgets/controls",
          "model_name": "HBoxModel",
          "state": {
            "_view_name": "HBoxView",
            "_dom_classes": [],
            "_model_name": "HBoxModel",
            "_view_module": "@jupyter-widgets/controls",
            "_model_module_version": "1.5.0",
            "_view_count": null,
            "_view_module_version": "1.5.0",
            "box_style": "",
            "layout": "IPY_MODEL_6da5d416fada4378bf648894f80825c6",
            "_model_module": "@jupyter-widgets/controls",
            "children": [
              "IPY_MODEL_5c3918b2a289483e9eedb7b82dad561f",
              "IPY_MODEL_af553007e1924da4912caef8a6071f77"
            ]
          }
        },
        "6da5d416fada4378bf648894f80825c6": {
          "model_module": "@jupyter-widgets/base",
          "model_name": "LayoutModel",
          "state": {
            "_view_name": "LayoutView",
            "grid_template_rows": null,
            "right": null,
            "justify_content": null,
            "_view_module": "@jupyter-widgets/base",
            "overflow": null,
            "_model_module_version": "1.2.0",
            "_view_count": null,
            "flex_flow": null,
            "width": null,
            "min_width": null,
            "border": null,
            "align_items": null,
            "bottom": null,
            "_model_module": "@jupyter-widgets/base",
            "top": null,
            "grid_column": null,
            "overflow_y": null,
            "overflow_x": null,
            "grid_auto_flow": null,
            "grid_area": null,
            "grid_template_columns": null,
            "flex": null,
            "_model_name": "LayoutModel",
            "justify_items": null,
            "grid_row": null,
            "max_height": null,
            "align_content": null,
            "visibility": null,
            "align_self": null,
            "height": null,
            "min_height": null,
            "padding": null,
            "grid_auto_rows": null,
            "grid_gap": null,
            "max_width": null,
            "order": null,
            "_view_module_version": "1.2.0",
            "grid_template_areas": null,
            "object_position": null,
            "object_fit": null,
            "grid_auto_columns": null,
            "margin": null,
            "display": null,
            "left": null
          }
        },
        "5c3918b2a289483e9eedb7b82dad561f": {
          "model_module": "@jupyter-widgets/controls",
          "model_name": "FloatProgressModel",
          "state": {
            "_view_name": "ProgressView",
            "style": "IPY_MODEL_20f3b9f72f9f49ef92cdce8f6aa34f2a",
            "_dom_classes": [],
            "description": "Dl Completed...: 100%",
            "_model_name": "FloatProgressModel",
            "bar_style": "success",
            "max": 4,
            "_view_module": "@jupyter-widgets/controls",
            "_model_module_version": "1.5.0",
            "value": 4,
            "_view_count": null,
            "_view_module_version": "1.5.0",
            "orientation": "horizontal",
            "min": 0,
            "description_tooltip": null,
            "_model_module": "@jupyter-widgets/controls",
            "layout": "IPY_MODEL_bd319bf4330b44f0aa7bc1eba7fa1ec1"
          }
        },
        "af553007e1924da4912caef8a6071f77": {
          "model_module": "@jupyter-widgets/controls",
          "model_name": "HTMLModel",
          "state": {
            "_view_name": "HTMLView",
            "style": "IPY_MODEL_2f47f99165304fc5ac68b3a870d64aa2",
            "_dom_classes": [],
            "description": "",
            "_model_name": "HTMLModel",
            "placeholder": "​",
            "_view_module": "@jupyter-widgets/controls",
            "_model_module_version": "1.5.0",
            "value": " 4/4 [00:00&lt;00:00,  5.63 file/s]",
            "_view_count": null,
            "_view_module_version": "1.5.0",
            "description_tooltip": null,
            "_model_module": "@jupyter-widgets/controls",
            "layout": "IPY_MODEL_4982a364304d41f0a7d6ed90523e1761"
          }
        },
        "20f3b9f72f9f49ef92cdce8f6aa34f2a": {
          "model_module": "@jupyter-widgets/controls",
          "model_name": "ProgressStyleModel",
          "state": {
            "_view_name": "StyleView",
            "_model_name": "ProgressStyleModel",
            "description_width": "initial",
            "_view_module": "@jupyter-widgets/base",
            "_model_module_version": "1.5.0",
            "_view_count": null,
            "_view_module_version": "1.2.0",
            "bar_color": null,
            "_model_module": "@jupyter-widgets/controls"
          }
        },
        "bd319bf4330b44f0aa7bc1eba7fa1ec1": {
          "model_module": "@jupyter-widgets/base",
          "model_name": "LayoutModel",
          "state": {
            "_view_name": "LayoutView",
            "grid_template_rows": null,
            "right": null,
            "justify_content": null,
            "_view_module": "@jupyter-widgets/base",
            "overflow": null,
            "_model_module_version": "1.2.0",
            "_view_count": null,
            "flex_flow": null,
            "width": null,
            "min_width": null,
            "border": null,
            "align_items": null,
            "bottom": null,
            "_model_module": "@jupyter-widgets/base",
            "top": null,
            "grid_column": null,
            "overflow_y": null,
            "overflow_x": null,
            "grid_auto_flow": null,
            "grid_area": null,
            "grid_template_columns": null,
            "flex": null,
            "_model_name": "LayoutModel",
            "justify_items": null,
            "grid_row": null,
            "max_height": null,
            "align_content": null,
            "visibility": null,
            "align_self": null,
            "height": null,
            "min_height": null,
            "padding": null,
            "grid_auto_rows": null,
            "grid_gap": null,
            "max_width": null,
            "order": null,
            "_view_module_version": "1.2.0",
            "grid_template_areas": null,
            "object_position": null,
            "object_fit": null,
            "grid_auto_columns": null,
            "margin": null,
            "display": null,
            "left": null
          }
        },
        "2f47f99165304fc5ac68b3a870d64aa2": {
          "model_module": "@jupyter-widgets/controls",
          "model_name": "DescriptionStyleModel",
          "state": {
            "_view_name": "StyleView",
            "_model_name": "DescriptionStyleModel",
            "description_width": "",
            "_view_module": "@jupyter-widgets/base",
            "_model_module_version": "1.5.0",
            "_view_count": null,
            "_view_module_version": "1.2.0",
            "_model_module": "@jupyter-widgets/controls"
          }
        },
        "4982a364304d41f0a7d6ed90523e1761": {
          "model_module": "@jupyter-widgets/base",
          "model_name": "LayoutModel",
          "state": {
            "_view_name": "LayoutView",
            "grid_template_rows": null,
            "right": null,
            "justify_content": null,
            "_view_module": "@jupyter-widgets/base",
            "overflow": null,
            "_model_module_version": "1.2.0",
            "_view_count": null,
            "flex_flow": null,
            "width": null,
            "min_width": null,
            "border": null,
            "align_items": null,
            "bottom": null,
            "_model_module": "@jupyter-widgets/base",
            "top": null,
            "grid_column": null,
            "overflow_y": null,
            "overflow_x": null,
            "grid_auto_flow": null,
            "grid_area": null,
            "grid_template_columns": null,
            "flex": null,
            "_model_name": "LayoutModel",
            "justify_items": null,
            "grid_row": null,
            "max_height": null,
            "align_content": null,
            "visibility": null,
            "align_self": null,
            "height": null,
            "min_height": null,
            "padding": null,
            "grid_auto_rows": null,
            "grid_gap": null,
            "max_width": null,
            "order": null,
            "_view_module_version": "1.2.0",
            "grid_template_areas": null,
            "object_position": null,
            "object_fit": null,
            "grid_auto_columns": null,
            "margin": null,
            "display": null,
            "left": null
          }
        }
      }
    }
  },
  "cells": [
    {
      "cell_type": "markdown",
      "metadata": {
        "id": "view-in-github",
        "colab_type": "text"
      },
      "source": [
        "<a href=\"https://colab.research.google.com/github/hyojk2001/Python-Based-Data-Analysis/blob/main/0614_mlearn.ipynb\" target=\"_parent\"><img src=\"https://colab.research.google.com/assets/colab-badge.svg\" alt=\"Open In Colab\"/></a>"
      ]
    },
    {
      "cell_type": "code",
      "metadata": {
        "colab": {
          "base_uri": "https://localhost:8080/",
          "height": 239
        },
        "id": "gm74cnyA7WGa",
        "outputId": "289c3698-5045-48f8-a7ab-d205b45be6ea"
      },
      "source": [
        "import tensorflow as tf\n",
        "\n",
        "sess = tf.Session()\n",
        "hello = tf.constant('Hello')\n",
        "print(sess.run(hello))\n",
        "\n",
        "# tensorflow version 1.XXX 대의 문법..\n",
        "# 지금은 2.5까지 나와있다"
      ],
      "execution_count": 1,
      "outputs": [
        {
          "output_type": "error",
          "ename": "AttributeError",
          "evalue": "ignored",
          "traceback": [
            "\u001b[0;31m---------------------------------------------------------------------------\u001b[0m",
            "\u001b[0;31mAttributeError\u001b[0m                            Traceback (most recent call last)",
            "\u001b[0;32m<ipython-input-1-ccdd1e1a79b5>\u001b[0m in \u001b[0;36m<module>\u001b[0;34m()\u001b[0m\n\u001b[1;32m      1\u001b[0m \u001b[0;32mimport\u001b[0m \u001b[0mtensorflow\u001b[0m \u001b[0;32mas\u001b[0m \u001b[0mtf\u001b[0m\u001b[0;34m\u001b[0m\u001b[0;34m\u001b[0m\u001b[0m\n\u001b[1;32m      2\u001b[0m \u001b[0;34m\u001b[0m\u001b[0m\n\u001b[0;32m----> 3\u001b[0;31m \u001b[0msess\u001b[0m \u001b[0;34m=\u001b[0m \u001b[0mtf\u001b[0m\u001b[0;34m.\u001b[0m\u001b[0mSession\u001b[0m\u001b[0;34m(\u001b[0m\u001b[0;34m)\u001b[0m\u001b[0;34m\u001b[0m\u001b[0;34m\u001b[0m\u001b[0m\n\u001b[0m\u001b[1;32m      4\u001b[0m \u001b[0mhello\u001b[0m \u001b[0;34m=\u001b[0m \u001b[0mtf\u001b[0m\u001b[0;34m.\u001b[0m\u001b[0mconstant\u001b[0m\u001b[0;34m(\u001b[0m\u001b[0;34m'Hello'\u001b[0m\u001b[0;34m)\u001b[0m\u001b[0;34m\u001b[0m\u001b[0;34m\u001b[0m\u001b[0m\n\u001b[1;32m      5\u001b[0m \u001b[0mprint\u001b[0m\u001b[0;34m(\u001b[0m\u001b[0msess\u001b[0m\u001b[0;34m.\u001b[0m\u001b[0mrun\u001b[0m\u001b[0;34m(\u001b[0m\u001b[0mhello\u001b[0m\u001b[0;34m)\u001b[0m\u001b[0;34m)\u001b[0m\u001b[0;34m\u001b[0m\u001b[0;34m\u001b[0m\u001b[0m\n",
            "\u001b[0;31mAttributeError\u001b[0m: module 'tensorflow' has no attribute 'Session'"
          ]
        }
      ]
    },
    {
      "cell_type": "code",
      "metadata": {
        "colab": {
          "base_uri": "https://localhost:8080/"
        },
        "id": "jnYqalw4__F3",
        "outputId": "b339bb6c-4714-43f6-ead9-3ff7ee1f69e9"
      },
      "source": [
        "# 2.XX 대 tensorflow 문법\n",
        "import tensorflow as tf\n",
        "\n",
        "with tf.compat.v1.Session() as sess:\n",
        "  # sess = tf.Session()\n",
        "  hello = tf.constant('kim hyojoong')\n",
        "  ans = sess.run(hello)\n",
        "  print(ans)\n",
        "\n"
      ],
      "execution_count": 2,
      "outputs": [
        {
          "output_type": "stream",
          "text": [
            "b'kim hyojoong'\n"
          ],
          "name": "stdout"
        }
      ]
    },
    {
      "cell_type": "code",
      "metadata": {
        "colab": {
          "base_uri": "https://localhost:8080/",
          "height": 35
        },
        "id": "183AAQXgAvpn",
        "outputId": "34dbd9be-ac21-4a9c-d41f-640b9d8543fc"
      },
      "source": [
        "tf.__version__"
      ],
      "execution_count": 3,
      "outputs": [
        {
          "output_type": "execute_result",
          "data": {
            "application/vnd.google.colaboratory.intrinsic+json": {
              "type": "string"
            },
            "text/plain": [
              "'2.5.0'"
            ]
          },
          "metadata": {
            "tags": []
          },
          "execution_count": 3
        }
      ]
    },
    {
      "cell_type": "code",
      "metadata": {
        "id": "P643HOxeF9HZ"
      },
      "source": [
        "import tensorflow as tf\n",
        "import numpy as np\n",
        "\n",
        "x = np.random.sample((100,3))\n",
        "dataset = tf.data.Dataset.from_tensor_slices(x)"
      ],
      "execution_count": 4,
      "outputs": []
    },
    {
      "cell_type": "code",
      "metadata": {
        "colab": {
          "base_uri": "https://localhost:8080/",
          "height": 207,
          "referenced_widgets": [
            "97cd8d7c0ae84b2ca587d62ac51f0963",
            "6da5d416fada4378bf648894f80825c6",
            "5c3918b2a289483e9eedb7b82dad561f",
            "af553007e1924da4912caef8a6071f77",
            "20f3b9f72f9f49ef92cdce8f6aa34f2a",
            "bd319bf4330b44f0aa7bc1eba7fa1ec1",
            "2f47f99165304fc5ac68b3a870d64aa2",
            "4982a364304d41f0a7d6ed90523e1761"
          ]
        },
        "id": "CgiRqanEKz7r",
        "outputId": "c2b2e0ae-ec95-4b7a-d505-3397e935153c"
      },
      "source": [
        "import tensorflow_datasets as tfds\n",
        "\n",
        "# 내장 데이터셋의 사용\n",
        "ds = tfds.load('mnist', split='train', shuffle_files=True)"
      ],
      "execution_count": 5,
      "outputs": [
        {
          "output_type": "stream",
          "text": [
            "\u001b[1mDownloading and preparing dataset mnist/3.0.1 (download: 11.06 MiB, generated: 21.00 MiB, total: 32.06 MiB) to /root/tensorflow_datasets/mnist/3.0.1...\u001b[0m\n"
          ],
          "name": "stdout"
        },
        {
          "output_type": "stream",
          "text": [
            "WARNING:absl:Dataset mnist is hosted on GCS. It will automatically be downloaded to your\n",
            "local data directory. If you'd instead prefer to read directly from our public\n",
            "GCS bucket (recommended if you're running on GCP), you can instead pass\n",
            "`try_gcs=True` to `tfds.load` or set `data_dir=gs://tfds-data/datasets`.\n",
            "\n"
          ],
          "name": "stderr"
        },
        {
          "output_type": "display_data",
          "data": {
            "application/vnd.jupyter.widget-view+json": {
              "model_id": "97cd8d7c0ae84b2ca587d62ac51f0963",
              "version_minor": 0,
              "version_major": 2
            },
            "text/plain": [
              "HBox(children=(FloatProgress(value=0.0, description='Dl Completed...', max=4.0, style=ProgressStyle(descriptio…"
            ]
          },
          "metadata": {
            "tags": []
          }
        },
        {
          "output_type": "stream",
          "text": [
            "\n",
            "\n",
            "\u001b[1mDataset mnist downloaded and prepared to /root/tensorflow_datasets/mnist/3.0.1. Subsequent calls will reuse this data.\u001b[0m\n"
          ],
          "name": "stdout"
        }
      ]
    },
    {
      "cell_type": "code",
      "metadata": {
        "colab": {
          "base_uri": "https://localhost:8080/"
        },
        "id": "mWsJrX1PLNzx",
        "outputId": "52be09fa-373a-468a-dbb8-fe78f8690ad7"
      },
      "source": [
        "# 케라스에서 제공하는 데이터셋 사용\n",
        "data_train, data_test = tf.keras.datasets.mnist.load_data()"
      ],
      "execution_count": 6,
      "outputs": [
        {
          "output_type": "stream",
          "text": [
            "Downloading data from https://storage.googleapis.com/tensorflow/tf-keras-datasets/mnist.npz\n",
            "11493376/11490434 [==============================] - 0s 0us/step\n"
          ],
          "name": "stdout"
        }
      ]
    },
    {
      "cell_type": "code",
      "metadata": {
        "colab": {
          "base_uri": "https://localhost:8080/"
        },
        "id": "b9Q56nnsLzLo",
        "outputId": "a9aac2da-3a0c-4d71-8648-717d703a5588"
      },
      "source": [
        "# 인터넷에서 데이터셋을 로컬컴퓨터에 내려받아 사용\n",
        "\n",
        "url = 'https://storage.googleapis.com/download.tensorflow.org/data/illiad/butler.txt'\n",
        "text_path = tf.keras.utils.get_file(\"butler.txt\", origin=url)"
      ],
      "execution_count": 7,
      "outputs": [
        {
          "output_type": "stream",
          "text": [
            "Downloading data from https://storage.googleapis.com/download.tensorflow.org/data/illiad/butler.txt\n",
            "811008/807992 [==============================] - 0s 0us/step\n"
          ],
          "name": "stdout"
        }
      ]
    },
    {
      "cell_type": "code",
      "metadata": {
        "id": "zHo2pWM_MBDF"
      },
      "source": [
        "from tensorflow.keras import models\n",
        "model = tf.keras.Sequential()"
      ],
      "execution_count": 8,
      "outputs": []
    },
    {
      "cell_type": "code",
      "metadata": {
        "colab": {
          "base_uri": "https://localhost:8080/",
          "height": 239
        },
        "id": "YcXWqFdXMy4n",
        "outputId": "97ca221f-373e-4898-d77c-51b2b1635cda"
      },
      "source": [
        "log_dir = 'logs/fit/'\n",
        "tensorboard_callback = tf.keras.callbacks.TensorBoard(log_dir=log_dir,histogram_freq=1)\n",
        "\n",
        "model.fit(\n",
        "    x = x_train,\n",
        "    y = y_train,\n",
        "    epochs = 5,\n",
        "    validation_Data = (x_test, y_test),\n",
        "    callbacks = [tensorboard_callback]\n",
        ")"
      ],
      "execution_count": 9,
      "outputs": [
        {
          "output_type": "error",
          "ename": "NameError",
          "evalue": "ignored",
          "traceback": [
            "\u001b[0;31m---------------------------------------------------------------------------\u001b[0m",
            "\u001b[0;31mNameError\u001b[0m                                 Traceback (most recent call last)",
            "\u001b[0;32m<ipython-input-9-f3e227748e82>\u001b[0m in \u001b[0;36m<module>\u001b[0;34m()\u001b[0m\n\u001b[1;32m      3\u001b[0m \u001b[0;34m\u001b[0m\u001b[0m\n\u001b[1;32m      4\u001b[0m model.fit(\n\u001b[0;32m----> 5\u001b[0;31m     \u001b[0mx\u001b[0m \u001b[0;34m=\u001b[0m \u001b[0mx_train\u001b[0m\u001b[0;34m,\u001b[0m\u001b[0;34m\u001b[0m\u001b[0;34m\u001b[0m\u001b[0m\n\u001b[0m\u001b[1;32m      6\u001b[0m     \u001b[0my\u001b[0m \u001b[0;34m=\u001b[0m \u001b[0my_train\u001b[0m\u001b[0;34m,\u001b[0m\u001b[0;34m\u001b[0m\u001b[0;34m\u001b[0m\u001b[0m\n\u001b[1;32m      7\u001b[0m     \u001b[0mepochs\u001b[0m \u001b[0;34m=\u001b[0m \u001b[0;36m5\u001b[0m\u001b[0;34m,\u001b[0m\u001b[0;34m\u001b[0m\u001b[0;34m\u001b[0m\u001b[0m\n",
            "\u001b[0;31mNameError\u001b[0m: name 'x_train' is not defined"
          ]
        }
      ]
    },
    {
      "cell_type": "code",
      "metadata": {
        "id": "ig0AOOjbPI4Q"
      },
      "source": [
        "############################"
      ],
      "execution_count": 10,
      "outputs": []
    },
    {
      "cell_type": "code",
      "metadata": {
        "id": "TTJcE-lyITIM"
      },
      "source": [
        "import pandas as pd   # 데이터 분석용 라이브러리\n",
        "import numpy as np    # 계산 라이브러리\n",
        "import tensorflow as tf   # 머신러닝을 위한 텐서플로우 라이브러리\n",
        "import matplotlib.pyplot as plt   # 그래프를 그리기 위한 그래프 라이브러리\n",
        "%matplotlib inline    \n",
        "# 웹 상에서 그림을 잘 그리기\n",
        "import seaborn as sns   # 그림을 보다 이쁘게 그리는 라이브러리\n",
        "\n",
        "sns.set(style='darkgrid')"
      ],
      "execution_count": 13,
      "outputs": []
    },
    {
      "cell_type": "code",
      "metadata": {
        "id": "Z6yLpZYWIgAs"
      },
      "source": [
        "cols = ['price', 'maint', 'doors', 'persons', 'lug_capacity', 'safety','output']\n",
        "cars = pd.read_csv('car_evaluation.csv', names=cols, header=None)"
      ],
      "execution_count": 16,
      "outputs": []
    },
    {
      "cell_type": "code",
      "metadata": {
        "colab": {
          "base_uri": "https://localhost:8080/",
          "height": 203
        },
        "id": "Iw8Xwnx6JnqS",
        "outputId": "ab654c93-145d-4565-ef26-55408ece79c3"
      },
      "source": [
        "cars.head()"
      ],
      "execution_count": 17,
      "outputs": [
        {
          "output_type": "execute_result",
          "data": {
            "text/html": [
              "<div>\n",
              "<style scoped>\n",
              "    .dataframe tbody tr th:only-of-type {\n",
              "        vertical-align: middle;\n",
              "    }\n",
              "\n",
              "    .dataframe tbody tr th {\n",
              "        vertical-align: top;\n",
              "    }\n",
              "\n",
              "    .dataframe thead th {\n",
              "        text-align: right;\n",
              "    }\n",
              "</style>\n",
              "<table border=\"1\" class=\"dataframe\">\n",
              "  <thead>\n",
              "    <tr style=\"text-align: right;\">\n",
              "      <th></th>\n",
              "      <th>price</th>\n",
              "      <th>maint</th>\n",
              "      <th>doors</th>\n",
              "      <th>persons</th>\n",
              "      <th>lug_capacity</th>\n",
              "      <th>safety</th>\n",
              "      <th>output</th>\n",
              "    </tr>\n",
              "  </thead>\n",
              "  <tbody>\n",
              "    <tr>\n",
              "      <th>0</th>\n",
              "      <td>vhigh</td>\n",
              "      <td>vhigh</td>\n",
              "      <td>2</td>\n",
              "      <td>2</td>\n",
              "      <td>small</td>\n",
              "      <td>low</td>\n",
              "      <td>unacc</td>\n",
              "    </tr>\n",
              "    <tr>\n",
              "      <th>1</th>\n",
              "      <td>vhigh</td>\n",
              "      <td>vhigh</td>\n",
              "      <td>2</td>\n",
              "      <td>2</td>\n",
              "      <td>small</td>\n",
              "      <td>med</td>\n",
              "      <td>unacc</td>\n",
              "    </tr>\n",
              "    <tr>\n",
              "      <th>2</th>\n",
              "      <td>vhigh</td>\n",
              "      <td>vhigh</td>\n",
              "      <td>2</td>\n",
              "      <td>2</td>\n",
              "      <td>small</td>\n",
              "      <td>high</td>\n",
              "      <td>unacc</td>\n",
              "    </tr>\n",
              "    <tr>\n",
              "      <th>3</th>\n",
              "      <td>vhigh</td>\n",
              "      <td>vhigh</td>\n",
              "      <td>2</td>\n",
              "      <td>2</td>\n",
              "      <td>med</td>\n",
              "      <td>low</td>\n",
              "      <td>unacc</td>\n",
              "    </tr>\n",
              "    <tr>\n",
              "      <th>4</th>\n",
              "      <td>vhigh</td>\n",
              "      <td>vhigh</td>\n",
              "      <td>2</td>\n",
              "      <td>2</td>\n",
              "      <td>med</td>\n",
              "      <td>med</td>\n",
              "      <td>unacc</td>\n",
              "    </tr>\n",
              "  </tbody>\n",
              "</table>\n",
              "</div>"
            ],
            "text/plain": [
              "   price  maint doors persons lug_capacity safety output\n",
              "0  vhigh  vhigh     2       2        small    low  unacc\n",
              "1  vhigh  vhigh     2       2        small    med  unacc\n",
              "2  vhigh  vhigh     2       2        small   high  unacc\n",
              "3  vhigh  vhigh     2       2          med    low  unacc\n",
              "4  vhigh  vhigh     2       2          med    med  unacc"
            ]
          },
          "metadata": {
            "tags": []
          },
          "execution_count": 17
        }
      ]
    },
    {
      "cell_type": "code",
      "metadata": {
        "colab": {
          "base_uri": "https://localhost:8080/",
          "height": 374
        },
        "id": "r86908agKKx5",
        "outputId": "5f2146c2-0da8-479b-abbe-44f66a3a10cc"
      },
      "source": [
        "plot_size = plt.rcParams[\"figure.figsize\"]\n",
        "plot_size [0] = 8\n",
        "plot_size [1] = 6\n",
        "plt.rcParams[\"figure.figsize\"] = plot_size\n",
        "cars.output.value_counts().plot(kind='pie', autopct='%0.03f%%', colors=['lightblue', 'lightgreen', 'orange', 'pink'], explode=(0.05,0.05,0.05,0.05))"
      ],
      "execution_count": 19,
      "outputs": [
        {
          "output_type": "execute_result",
          "data": {
            "text/plain": [
              "<matplotlib.axes._subplots.AxesSubplot at 0x7f3c63c03c50>"
            ]
          },
          "metadata": {
            "tags": []
          },
          "execution_count": 19
        },
        {
          "output_type": "display_data",
          "data": {
            "image/png": "[encoded data removed]",
            "text/plain": [
              "<Figure size 576x432 with 1 Axes>"
            ]
          },
          "metadata": {
            "tags": []
          }
        }
      ]
    },
    {
      "cell_type": "code",
      "metadata": {
        "id": "VEpy8VGXPN7U"
      },
      "source": [
        "price = pd.get_dummies(cars.price, prefix='price')\n",
        "maint = pd.get_dummies(cars.maint, prefix='maint')\n",
        "\n",
        "doors = pd.get_dummies(cars.doors, prefix='doors')\n",
        "persons = pd.get_dummies(cars.persons, prefix='persons')\n",
        "\n",
        "lug_capacity = pd.get_dummies(cars.lug_capacity, prefix='lug_capacity')\n",
        "safety = pd.get_dummies(cars.safety, prefix='safety')\n",
        "\n",
        "labels = pd.get_dummies(cars.output, prefix='condition')\n",
        "\n",
        "X = pd.concat([price, maint, doors, persons, lug_capacity, safety], axis=1)\n",
        "y = labels.values     # 레이블을 넘파이의 배열로 변환"
      ],
      "execution_count": 21,
      "outputs": []
    },
    {
      "cell_type": "code",
      "metadata": {
        "id": "_K1zkv6-Rw7D"
      },
      "source": [
        "from sklearn.model_selection import train_test_split\n",
        "X_train, X_test, y_train, y_test = train_test_split(X, y, test_size=0.20, random_state=42)"
      ],
      "execution_count": 22,
      "outputs": []
    },
    {
      "cell_type": "code",
      "metadata": {
        "colab": {
          "base_uri": "https://localhost:8080/"
        },
        "id": "euMlaezxToyI",
        "outputId": "89a7ab9a-99b8-42ec-8db4-a768f6a14e4f"
      },
      "source": [
        "from tensorflow.keras.layers import Input, Dense, Activation, Dropout   # ------ 케라스 API를 이용하여 Input, Dense, Activation, Drop 클래스를 호출\n",
        "from tensorflow.keras.models import Model       # ------ 역시 케라스 API를 이용하여 Model 클래스 호출\n",
        "\n",
        "input_layer = Input(shape=(X.shape[1],))\n",
        "dense_layer_1 = Dense(15, activation='relu')(input_layer)   # 노드 15개 + 렐루 활성화함수\n",
        "dense_layer_2 = Dense(10, activation='relu')(dense_layer_1)   # 노드 10개 + 렐루 활성화함수\n",
        "output = Dense(y.shape[1], activation='softmax')(dense_layer_2)   # 노드 4개 + 소프트맥스 활성화 함수\n",
        "\n",
        "model = Model(inputs=input_layer, outputs=output)\n",
        "\n",
        "\n",
        "model.compile(loss='categorical_crossentropy', optimizer='adam', metrics=['acc'])\n",
        "\n",
        "model.summary()"
      ],
      "execution_count": 23,
      "outputs": [
        {
          "output_type": "stream",
          "text": [
            "Model: \"model\"\n",
            "_________________________________________________________________\n",
            "Layer (type)                 Output Shape              Param #   \n",
            "=================================================================\n",
            "input_1 (InputLayer)         [(None, 21)]              0         \n",
            "_________________________________________________________________\n",
            "dense (Dense)                (None, 15)                330       \n",
            "_________________________________________________________________\n",
            "dense_1 (Dense)              (None, 10)                160       \n",
            "_________________________________________________________________\n",
            "dense_2 (Dense)              (None, 4)                 44        \n",
            "=================================================================\n",
            "Total params: 534\n",
            "Trainable params: 534\n",
            "Non-trainable params: 0\n",
            "_________________________________________________________________\n"
          ],
          "name": "stdout"
        }
      ]
    },
    {
      "cell_type": "code",
      "metadata": {
        "colab": {
          "base_uri": "https://localhost:8080/"
        },
        "id": "NcvKel59VBXq",
        "outputId": "10c2c5c1-13b7-4b8d-867b-ee49663ef569"
      },
      "source": [
        "history = model.fit(X_train, y_train, batch_size=8, epochs=50, verbose=1, validation_split=0.2)"
      ],
      "execution_count": 25,
      "outputs": [
        {
          "output_type": "stream",
          "text": [
            "Epoch 1/50\n",
            "139/139 [==============================] - 1s 4ms/step - loss: 1.0668 - acc: 0.5937 - val_loss: 0.8751 - val_acc: 0.6498\n",
            "Epoch 2/50\n",
            "139/139 [==============================] - 0s 2ms/step - loss: 0.6749 - acc: 0.7213 - val_loss: 0.7293 - val_acc: 0.6534\n",
            "Epoch 3/50\n",
            "139/139 [==============================] - 0s 2ms/step - loss: 0.5342 - acc: 0.7466 - val_loss: 0.6001 - val_acc: 0.7148\n",
            "Epoch 4/50\n",
            "139/139 [==============================] - 0s 2ms/step - loss: 0.4157 - acc: 0.8253 - val_loss: 0.4995 - val_acc: 0.7870\n",
            "Epoch 5/50\n",
            "139/139 [==============================] - 0s 2ms/step - loss: 0.3364 - acc: 0.8715 - val_loss: 0.4227 - val_acc: 0.8303\n",
            "Epoch 6/50\n",
            "139/139 [==============================] - 0s 2ms/step - loss: 0.2855 - acc: 0.8923 - val_loss: 0.3695 - val_acc: 0.8628\n",
            "Epoch 7/50\n",
            "139/139 [==============================] - 0s 2ms/step - loss: 0.2475 - acc: 0.8995 - val_loss: 0.3279 - val_acc: 0.8700\n",
            "Epoch 8/50\n",
            "139/139 [==============================] - 0s 2ms/step - loss: 0.2169 - acc: 0.9131 - val_loss: 0.2910 - val_acc: 0.8917\n",
            "Epoch 9/50\n",
            "139/139 [==============================] - 0s 2ms/step - loss: 0.1943 - acc: 0.9249 - val_loss: 0.2822 - val_acc: 0.8953\n",
            "Epoch 10/50\n",
            "139/139 [==============================] - 0s 2ms/step - loss: 0.1784 - acc: 0.9294 - val_loss: 0.2523 - val_acc: 0.8989\n",
            "Epoch 11/50\n",
            "139/139 [==============================] - 0s 2ms/step - loss: 0.1656 - acc: 0.9403 - val_loss: 0.2459 - val_acc: 0.8989\n",
            "Epoch 12/50\n",
            "139/139 [==============================] - 0s 2ms/step - loss: 0.1560 - acc: 0.9367 - val_loss: 0.2402 - val_acc: 0.9025\n",
            "Epoch 13/50\n",
            "139/139 [==============================] - 0s 2ms/step - loss: 0.1505 - acc: 0.9439 - val_loss: 0.2305 - val_acc: 0.9061\n",
            "Epoch 14/50\n",
            "139/139 [==============================] - 0s 2ms/step - loss: 0.1401 - acc: 0.9529 - val_loss: 0.2230 - val_acc: 0.9134\n",
            "Epoch 15/50\n",
            "139/139 [==============================] - 0s 2ms/step - loss: 0.1319 - acc: 0.9529 - val_loss: 0.2105 - val_acc: 0.9134\n",
            "Epoch 16/50\n",
            "139/139 [==============================] - 0s 2ms/step - loss: 0.1236 - acc: 0.9566 - val_loss: 0.2070 - val_acc: 0.9134\n",
            "Epoch 17/50\n",
            "139/139 [==============================] - 0s 2ms/step - loss: 0.1160 - acc: 0.9584 - val_loss: 0.1853 - val_acc: 0.9206\n",
            "Epoch 18/50\n",
            "139/139 [==============================] - 0s 2ms/step - loss: 0.1100 - acc: 0.9656 - val_loss: 0.2172 - val_acc: 0.9061\n",
            "Epoch 19/50\n",
            "139/139 [==============================] - 0s 2ms/step - loss: 0.1069 - acc: 0.9620 - val_loss: 0.1800 - val_acc: 0.9206\n",
            "Epoch 20/50\n",
            "139/139 [==============================] - 0s 2ms/step - loss: 0.0968 - acc: 0.9719 - val_loss: 0.1685 - val_acc: 0.9278\n",
            "Epoch 21/50\n",
            "139/139 [==============================] - 0s 2ms/step - loss: 0.0911 - acc: 0.9719 - val_loss: 0.1764 - val_acc: 0.9206\n",
            "Epoch 22/50\n",
            "139/139 [==============================] - 0s 2ms/step - loss: 0.0859 - acc: 0.9756 - val_loss: 0.1519 - val_acc: 0.9458\n",
            "Epoch 23/50\n",
            "139/139 [==============================] - 0s 2ms/step - loss: 0.0811 - acc: 0.9792 - val_loss: 0.1592 - val_acc: 0.9278\n",
            "Epoch 24/50\n",
            "139/139 [==============================] - 0s 2ms/step - loss: 0.0741 - acc: 0.9801 - val_loss: 0.1408 - val_acc: 0.9495\n",
            "Epoch 25/50\n",
            "139/139 [==============================] - 0s 2ms/step - loss: 0.0699 - acc: 0.9819 - val_loss: 0.1410 - val_acc: 0.9350\n",
            "Epoch 26/50\n",
            "139/139 [==============================] - 0s 2ms/step - loss: 0.0639 - acc: 0.9864 - val_loss: 0.1371 - val_acc: 0.9386\n",
            "Epoch 27/50\n",
            "139/139 [==============================] - 0s 2ms/step - loss: 0.0600 - acc: 0.9891 - val_loss: 0.1267 - val_acc: 0.9531\n",
            "Epoch 28/50\n",
            "139/139 [==============================] - 0s 2ms/step - loss: 0.0543 - acc: 0.9882 - val_loss: 0.1335 - val_acc: 0.9458\n",
            "Epoch 29/50\n",
            "139/139 [==============================] - 0s 2ms/step - loss: 0.0526 - acc: 0.9919 - val_loss: 0.1283 - val_acc: 0.9422\n",
            "Epoch 30/50\n",
            "139/139 [==============================] - 0s 2ms/step - loss: 0.0466 - acc: 0.9919 - val_loss: 0.1099 - val_acc: 0.9711\n",
            "Epoch 31/50\n",
            "139/139 [==============================] - 0s 2ms/step - loss: 0.0429 - acc: 0.9937 - val_loss: 0.1063 - val_acc: 0.9639\n",
            "Epoch 32/50\n",
            "139/139 [==============================] - 0s 2ms/step - loss: 0.0394 - acc: 0.9946 - val_loss: 0.1088 - val_acc: 0.9639\n",
            "Epoch 33/50\n",
            "139/139 [==============================] - 0s 2ms/step - loss: 0.0373 - acc: 0.9946 - val_loss: 0.0946 - val_acc: 0.9711\n",
            "Epoch 34/50\n",
            "139/139 [==============================] - 0s 2ms/step - loss: 0.0352 - acc: 0.9937 - val_loss: 0.0930 - val_acc: 0.9711\n",
            "Epoch 35/50\n",
            "139/139 [==============================] - 0s 2ms/step - loss: 0.0314 - acc: 0.9973 - val_loss: 0.0885 - val_acc: 0.9783\n",
            "Epoch 36/50\n",
            "139/139 [==============================] - 0s 2ms/step - loss: 0.0293 - acc: 0.9973 - val_loss: 0.0910 - val_acc: 0.9675\n",
            "Epoch 37/50\n",
            "139/139 [==============================] - 0s 2ms/step - loss: 0.0266 - acc: 0.9973 - val_loss: 0.0904 - val_acc: 0.9675\n",
            "Epoch 38/50\n",
            "139/139 [==============================] - 0s 2ms/step - loss: 0.0255 - acc: 0.9973 - val_loss: 0.0834 - val_acc: 0.9711\n",
            "Epoch 39/50\n",
            "139/139 [==============================] - 0s 2ms/step - loss: 0.0222 - acc: 0.9991 - val_loss: 0.0844 - val_acc: 0.9711\n",
            "Epoch 40/50\n",
            "139/139 [==============================] - 0s 2ms/step - loss: 0.0214 - acc: 0.9991 - val_loss: 0.0763 - val_acc: 0.9819\n",
            "Epoch 41/50\n",
            "139/139 [==============================] - 0s 2ms/step - loss: 0.0209 - acc: 0.9973 - val_loss: 0.0718 - val_acc: 0.9783\n",
            "Epoch 42/50\n",
            "139/139 [==============================] - 0s 2ms/step - loss: 0.0183 - acc: 1.0000 - val_loss: 0.0653 - val_acc: 0.9819\n",
            "Epoch 43/50\n",
            "139/139 [==============================] - 0s 2ms/step - loss: 0.0162 - acc: 1.0000 - val_loss: 0.0686 - val_acc: 0.9856\n",
            "Epoch 44/50\n",
            "139/139 [==============================] - 0s 2ms/step - loss: 0.0156 - acc: 1.0000 - val_loss: 0.0597 - val_acc: 0.9892\n",
            "Epoch 45/50\n",
            "139/139 [==============================] - 0s 2ms/step - loss: 0.0142 - acc: 1.0000 - val_loss: 0.0592 - val_acc: 0.9892\n",
            "Epoch 46/50\n",
            "139/139 [==============================] - 0s 2ms/step - loss: 0.0130 - acc: 1.0000 - val_loss: 0.0563 - val_acc: 0.9928\n",
            "Epoch 47/50\n",
            "139/139 [==============================] - 0s 2ms/step - loss: 0.0126 - acc: 0.9991 - val_loss: 0.0642 - val_acc: 0.9819\n",
            "Epoch 48/50\n",
            "139/139 [==============================] - 0s 2ms/step - loss: 0.0110 - acc: 1.0000 - val_loss: 0.0516 - val_acc: 0.9928\n",
            "Epoch 49/50\n",
            "139/139 [==============================] - 0s 2ms/step - loss: 0.0109 - acc: 1.0000 - val_loss: 0.0530 - val_acc: 0.9928\n",
            "Epoch 50/50\n",
            "139/139 [==============================] - 0s 2ms/step - loss: 0.0092 - acc: 1.0000 - val_loss: 0.0562 - val_acc: 0.9856\n"
          ],
          "name": "stdout"
        }
      ]
    },
    {
      "cell_type": "code",
      "metadata": {
        "colab": {
          "base_uri": "https://localhost:8080/"
        },
        "id": "wuG2nbyYXf4E",
        "outputId": "15b69936-7676-4cc8-b2e5-a3dacb11cb68"
      },
      "source": [
        "# 정확도\n",
        "score = model.evaluate(X_test, y_test, verbose=1)\n",
        "print('Test score : ', score[0])\n",
        "print('Test accuracy : ', score[1])"
      ],
      "execution_count": 26,
      "outputs": [
        {
          "output_type": "stream",
          "text": [
            "11/11 [==============================] - 0s 2ms/step - loss: 0.0765 - acc: 0.9653\n",
            "Test score :  0.07651098817586899\n",
            "Test accuracy :  0.9653179049491882\n"
          ],
          "name": "stdout"
        }
      ]
    },
    {
      "cell_type": "code",
      "metadata": {
        "id": "sI5oeXzlX_vW"
      },
      "source": [
        ""
      ],
      "execution_count": null,
      "outputs": []
    }
  ]
}