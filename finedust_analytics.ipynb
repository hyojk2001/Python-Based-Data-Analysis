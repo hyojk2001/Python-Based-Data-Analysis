{
  "nbformat": 4,
  "nbformat_minor": 0,
  "metadata": {
    "colab": {
      "name": "finedust_analytics.ipynb",
      "provenance": [],
      "authorship_tag": "ABX9TyPFKivkQd5PISimWAMf5i21",
      "include_colab_link": true
    },
    "kernelspec": {
      "name": "python3",
      "display_name": "Python 3"
    },
    "language_info": {
      "name": "python"
    }
  },
  "cells": [
    {
      "cell_type": "markdown",
      "metadata": {
        "id": "view-in-github",
        "colab_type": "text"
      },
      "source": [
        "<a href=\"https://colab.research.google.com/github/hyojk2001/Python-Based-Data-Analysis/blob/main/finedust_analytics.ipynb\" target=\"_parent\"><img src=\"https://colab.research.google.com/assets/colab-badge.svg\" alt=\"Open In Colab\"/></a>"
      ]
    },
    {
      "cell_type": "code",
      "metadata": {
        "colab": {
          "base_uri": "https://localhost:8080/",
          "height": 142
        },
        "id": "XNmOIjpddbTM",
        "outputId": "fa884589-167d-4f83-e665-bbcf6e9c29e2"
      },
      "source": [
        "import pandas as pd\n",
        "\n",
        "url = 'http://openapi.seoul.go.kr:8088/4f6a6547456b6368333355736a714f/json/RealtimeCityAir/1/25'\n",
        "dfs = pd.read_json(url)\n",
        "dfs"
      ],
      "execution_count": 2,
      "outputs": [
        {
          "output_type": "execute_result",
          "data": {
            "text/html": [
              "<div>\n",
              "<style scoped>\n",
              "    .dataframe tbody tr th:only-of-type {\n",
              "        vertical-align: middle;\n",
              "    }\n",
              "\n",
              "    .dataframe tbody tr th {\n",
              "        vertical-align: top;\n",
              "    }\n",
              "\n",
              "    .dataframe thead th {\n",
              "        text-align: right;\n",
              "    }\n",
              "</style>\n",
              "<table border=\"1\" class=\"dataframe\">\n",
              "  <thead>\n",
              "    <tr style=\"text-align: right;\">\n",
              "      <th></th>\n",
              "      <th>RealtimeCityAir</th>\n",
              "    </tr>\n",
              "  </thead>\n",
              "  <tbody>\n",
              "    <tr>\n",
              "      <th>RESULT</th>\n",
              "      <td>{'CODE': 'INFO-000', 'MESSAGE': '정상 처리되었습니다'}</td>\n",
              "    </tr>\n",
              "    <tr>\n",
              "      <th>list_total_count</th>\n",
              "      <td>25</td>\n",
              "    </tr>\n",
              "    <tr>\n",
              "      <th>row</th>\n",
              "      <td>[{'MSRDT': '202106232300', 'MSRRGN_NM': '도심권',...</td>\n",
              "    </tr>\n",
              "  </tbody>\n",
              "</table>\n",
              "</div>"
            ],
            "text/plain": [
              "                                                    RealtimeCityAir\n",
              "RESULT                {'CODE': 'INFO-000', 'MESSAGE': '정상 처리되었습니다'}\n",
              "list_total_count                                                 25\n",
              "row               [{'MSRDT': '202106232300', 'MSRRGN_NM': '도심권',..."
            ]
          },
          "metadata": {
            "tags": []
          },
          "execution_count": 2
        }
      ]
    },
    {
      "cell_type": "code",
      "metadata": {
        "colab": {
          "base_uri": "https://localhost:8080/",
          "height": 203
        },
        "id": "v8HJqwZfdinE",
        "outputId": "35abbec6-bc45-4b84-b08c-21caa4e19f9f"
      },
      "source": [
        "new = dfs.loc['row','RealtimeCityAir']\n",
        "new1 = pd.DataFrame.from_dict(new)\n",
        "new1.head()"
      ],
      "execution_count": 3,
      "outputs": [
        {
          "output_type": "execute_result",
          "data": {
            "text/html": [
              "<div>\n",
              "<style scoped>\n",
              "    .dataframe tbody tr th:only-of-type {\n",
              "        vertical-align: middle;\n",
              "    }\n",
              "\n",
              "    .dataframe tbody tr th {\n",
              "        vertical-align: top;\n",
              "    }\n",
              "\n",
              "    .dataframe thead th {\n",
              "        text-align: right;\n",
              "    }\n",
              "</style>\n",
              "<table border=\"1\" class=\"dataframe\">\n",
              "  <thead>\n",
              "    <tr style=\"text-align: right;\">\n",
              "      <th></th>\n",
              "      <th>MSRDT</th>\n",
              "      <th>MSRRGN_NM</th>\n",
              "      <th>MSRSTE_NM</th>\n",
              "      <th>PM10</th>\n",
              "      <th>PM25</th>\n",
              "      <th>O3</th>\n",
              "      <th>NO2</th>\n",
              "      <th>CO</th>\n",
              "      <th>SO2</th>\n",
              "      <th>IDEX_NM</th>\n",
              "      <th>IDEX_MVL</th>\n",
              "      <th>ARPLT_MAIN</th>\n",
              "    </tr>\n",
              "  </thead>\n",
              "  <tbody>\n",
              "    <tr>\n",
              "      <th>0</th>\n",
              "      <td>202106232300</td>\n",
              "      <td>도심권</td>\n",
              "      <td>중구</td>\n",
              "      <td>21.0</td>\n",
              "      <td>12.0</td>\n",
              "      <td>0.021</td>\n",
              "      <td>0.039</td>\n",
              "      <td>0.5</td>\n",
              "      <td>0.003</td>\n",
              "      <td>보통</td>\n",
              "      <td>65.0</td>\n",
              "      <td>NO2</td>\n",
              "    </tr>\n",
              "    <tr>\n",
              "      <th>1</th>\n",
              "      <td>202106232300</td>\n",
              "      <td>도심권</td>\n",
              "      <td>종로구</td>\n",
              "      <td>19.0</td>\n",
              "      <td>13.0</td>\n",
              "      <td>0.029</td>\n",
              "      <td>0.029</td>\n",
              "      <td>0.5</td>\n",
              "      <td>0.003</td>\n",
              "      <td>보통</td>\n",
              "      <td>51.0</td>\n",
              "      <td>PM25</td>\n",
              "    </tr>\n",
              "    <tr>\n",
              "      <th>2</th>\n",
              "      <td>202106232300</td>\n",
              "      <td>도심권</td>\n",
              "      <td>용산구</td>\n",
              "      <td>22.0</td>\n",
              "      <td>12.0</td>\n",
              "      <td>0.018</td>\n",
              "      <td>0.023</td>\n",
              "      <td>0.4</td>\n",
              "      <td>0.002</td>\n",
              "      <td>좋음</td>\n",
              "      <td>43.0</td>\n",
              "      <td>PM25</td>\n",
              "    </tr>\n",
              "    <tr>\n",
              "      <th>3</th>\n",
              "      <td>202106232300</td>\n",
              "      <td>서북권</td>\n",
              "      <td>은평구</td>\n",
              "      <td>16.0</td>\n",
              "      <td>11.0</td>\n",
              "      <td>0.030</td>\n",
              "      <td>0.022</td>\n",
              "      <td>0.4</td>\n",
              "      <td>0.003</td>\n",
              "      <td>보통</td>\n",
              "      <td>51.0</td>\n",
              "      <td>O3</td>\n",
              "    </tr>\n",
              "    <tr>\n",
              "      <th>4</th>\n",
              "      <td>202106232300</td>\n",
              "      <td>서북권</td>\n",
              "      <td>서대문구</td>\n",
              "      <td>14.0</td>\n",
              "      <td>12.0</td>\n",
              "      <td>0.031</td>\n",
              "      <td>0.019</td>\n",
              "      <td>0.4</td>\n",
              "      <td>0.003</td>\n",
              "      <td>보통</td>\n",
              "      <td>51.0</td>\n",
              "      <td>O3</td>\n",
              "    </tr>\n",
              "  </tbody>\n",
              "</table>\n",
              "</div>"
            ],
            "text/plain": [
              "          MSRDT MSRRGN_NM MSRSTE_NM  PM10  ...    SO2  IDEX_NM  IDEX_MVL  ARPLT_MAIN\n",
              "0  202106232300       도심권        중구  21.0  ...  0.003       보통      65.0         NO2\n",
              "1  202106232300       도심권       종로구  19.0  ...  0.003       보통      51.0        PM25\n",
              "2  202106232300       도심권       용산구  22.0  ...  0.002       좋음      43.0        PM25\n",
              "3  202106232300       서북권       은평구  16.0  ...  0.003       보통      51.0          O3\n",
              "4  202106232300       서북권      서대문구  14.0  ...  0.003       보통      51.0          O3\n",
              "\n",
              "[5 rows x 12 columns]"
            ]
          },
          "metadata": {
            "tags": []
          },
          "execution_count": 3
        }
      ]
    },
    {
      "cell_type": "code",
      "metadata": {
        "colab": {
          "base_uri": "https://localhost:8080/",
          "height": 203
        },
        "id": "s3_haiTcd4Zj",
        "outputId": "9527e003-5a14-4f43-b0ce-41f0c92cb3e0"
      },
      "source": [
        "new2 = new1[['MSRDT','MSRSTE_NM', 'PM10', 'PM25']]\n",
        "new2.head()"
      ],
      "execution_count": 4,
      "outputs": [
        {
          "output_type": "execute_result",
          "data": {
            "text/html": [
              "<div>\n",
              "<style scoped>\n",
              "    .dataframe tbody tr th:only-of-type {\n",
              "        vertical-align: middle;\n",
              "    }\n",
              "\n",
              "    .dataframe tbody tr th {\n",
              "        vertical-align: top;\n",
              "    }\n",
              "\n",
              "    .dataframe thead th {\n",
              "        text-align: right;\n",
              "    }\n",
              "</style>\n",
              "<table border=\"1\" class=\"dataframe\">\n",
              "  <thead>\n",
              "    <tr style=\"text-align: right;\">\n",
              "      <th></th>\n",
              "      <th>MSRDT</th>\n",
              "      <th>MSRSTE_NM</th>\n",
              "      <th>PM10</th>\n",
              "      <th>PM25</th>\n",
              "    </tr>\n",
              "  </thead>\n",
              "  <tbody>\n",
              "    <tr>\n",
              "      <th>0</th>\n",
              "      <td>202106232300</td>\n",
              "      <td>중구</td>\n",
              "      <td>21.0</td>\n",
              "      <td>12.0</td>\n",
              "    </tr>\n",
              "    <tr>\n",
              "      <th>1</th>\n",
              "      <td>202106232300</td>\n",
              "      <td>종로구</td>\n",
              "      <td>19.0</td>\n",
              "      <td>13.0</td>\n",
              "    </tr>\n",
              "    <tr>\n",
              "      <th>2</th>\n",
              "      <td>202106232300</td>\n",
              "      <td>용산구</td>\n",
              "      <td>22.0</td>\n",
              "      <td>12.0</td>\n",
              "    </tr>\n",
              "    <tr>\n",
              "      <th>3</th>\n",
              "      <td>202106232300</td>\n",
              "      <td>은평구</td>\n",
              "      <td>16.0</td>\n",
              "      <td>11.0</td>\n",
              "    </tr>\n",
              "    <tr>\n",
              "      <th>4</th>\n",
              "      <td>202106232300</td>\n",
              "      <td>서대문구</td>\n",
              "      <td>14.0</td>\n",
              "      <td>12.0</td>\n",
              "    </tr>\n",
              "  </tbody>\n",
              "</table>\n",
              "</div>"
            ],
            "text/plain": [
              "          MSRDT MSRSTE_NM  PM10  PM25\n",
              "0  202106232300        중구  21.0  12.0\n",
              "1  202106232300       종로구  19.0  13.0\n",
              "2  202106232300       용산구  22.0  12.0\n",
              "3  202106232300       은평구  16.0  11.0\n",
              "4  202106232300      서대문구  14.0  12.0"
            ]
          },
          "metadata": {
            "tags": []
          },
          "execution_count": 4
        }
      ]
    },
    {
      "cell_type": "code",
      "metadata": {
        "colab": {
          "base_uri": "https://localhost:8080/",
          "height": 203
        },
        "id": "-bxtlGT4eC5l",
        "outputId": "a175cb42-45ac-485b-b640-6dde00322ab0"
      },
      "source": [
        "new3 = new1[['MSRDT','MSRSTE_NM', 'PM10', 'PM25', 'IDEX_NM']].rename(\n",
        "    columns = {'MSRDT': '연월일', 'MSRSTE_NM': '지역구', 'PM10':'미세먼지(PM10)', 'PM25':'초미세먼지(PM25)', 'INDEX_NM':'상태'}, \n",
        "    inplace = False)\n",
        "new3.head()"
      ],
      "execution_count": 6,
      "outputs": [
        {
          "output_type": "execute_result",
          "data": {
            "text/html": [
              "<div>\n",
              "<style scoped>\n",
              "    .dataframe tbody tr th:only-of-type {\n",
              "        vertical-align: middle;\n",
              "    }\n",
              "\n",
              "    .dataframe tbody tr th {\n",
              "        vertical-align: top;\n",
              "    }\n",
              "\n",
              "    .dataframe thead th {\n",
              "        text-align: right;\n",
              "    }\n",
              "</style>\n",
              "<table border=\"1\" class=\"dataframe\">\n",
              "  <thead>\n",
              "    <tr style=\"text-align: right;\">\n",
              "      <th></th>\n",
              "      <th>연월일</th>\n",
              "      <th>지역구</th>\n",
              "      <th>미세먼지(PM10)</th>\n",
              "      <th>초미세먼지(PM25)</th>\n",
              "      <th>IDEX_NM</th>\n",
              "    </tr>\n",
              "  </thead>\n",
              "  <tbody>\n",
              "    <tr>\n",
              "      <th>0</th>\n",
              "      <td>202106232300</td>\n",
              "      <td>중구</td>\n",
              "      <td>21.0</td>\n",
              "      <td>12.0</td>\n",
              "      <td>보통</td>\n",
              "    </tr>\n",
              "    <tr>\n",
              "      <th>1</th>\n",
              "      <td>202106232300</td>\n",
              "      <td>종로구</td>\n",
              "      <td>19.0</td>\n",
              "      <td>13.0</td>\n",
              "      <td>보통</td>\n",
              "    </tr>\n",
              "    <tr>\n",
              "      <th>2</th>\n",
              "      <td>202106232300</td>\n",
              "      <td>용산구</td>\n",
              "      <td>22.0</td>\n",
              "      <td>12.0</td>\n",
              "      <td>좋음</td>\n",
              "    </tr>\n",
              "    <tr>\n",
              "      <th>3</th>\n",
              "      <td>202106232300</td>\n",
              "      <td>은평구</td>\n",
              "      <td>16.0</td>\n",
              "      <td>11.0</td>\n",
              "      <td>보통</td>\n",
              "    </tr>\n",
              "    <tr>\n",
              "      <th>4</th>\n",
              "      <td>202106232300</td>\n",
              "      <td>서대문구</td>\n",
              "      <td>14.0</td>\n",
              "      <td>12.0</td>\n",
              "      <td>보통</td>\n",
              "    </tr>\n",
              "  </tbody>\n",
              "</table>\n",
              "</div>"
            ],
            "text/plain": [
              "            연월일   지역구  미세먼지(PM10)  초미세먼지(PM25) IDEX_NM\n",
              "0  202106232300    중구        21.0         12.0      보통\n",
              "1  202106232300   종로구        19.0         13.0      보통\n",
              "2  202106232300   용산구        22.0         12.0      좋음\n",
              "3  202106232300   은평구        16.0         11.0      보통\n",
              "4  202106232300  서대문구        14.0         12.0      보통"
            ]
          },
          "metadata": {
            "tags": []
          },
          "execution_count": 6
        }
      ]
    },
    {
      "cell_type": "code",
      "metadata": {
        "id": "sz1mRjIGeJFF"
      },
      "source": [
        ""
      ],
      "execution_count": null,
      "outputs": []
    }
  ]
}